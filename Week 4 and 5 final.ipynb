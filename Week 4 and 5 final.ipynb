{
    "cells": [
        {
            "metadata": {
                "collapsed": true
            },
            "cell_type": "markdown",
            "source": "# Introduction/Business Problem"
        },
        {
            "metadata": {},
            "cell_type": "markdown",
            "source": "   Whenever I plan a trip to a new city, I find myself looking up specific interests of mine and trying to map how far away they are from each other. I will spend hours deciding which area in a city I will visit because of how tedious it is planning my commute between desired attractions. My solution to this problem is to create a tool using the location data on Foursquare that will allow customers to input their desired attractions (ex. resturants, movies, sports). This tool will optimize the customers experience while visiting the city by recommending neighborhoods in the desired city with the maximum density of requested attractions. This will save the customer time and gurantee an excepional experience while visiting their city of choice. For this project, I will be exploring the city of Pittsburgh, PA."
        },
        {
            "metadata": {},
            "cell_type": "markdown",
            "source": "# Data"
        },
        {
            "metadata": {},
            "cell_type": "markdown",
            "source": "   To create the tool described in  the Introduction/Business Problem section, I will be using the location data provided by Foursquare. Similar to the New York and Toronto examples, I will be retrieving information on the density of different attractions in a given neighborhood. I will create a tool that will filter columns to be used in calculating which neighborhoods should be recommended. For example, if the user inputs 'resturants' and 'parks' as search criteria, the tool will filter only those columns and add up their densities. The new column with the summation of the densities will be sorted in descending order and the top three neighborhood will be suggested as recommended places to visit. "
        },
        {
            "metadata": {},
            "cell_type": "markdown",
            "source": "# Code"
        },
        {
            "metadata": {
                "scrolled": true
            },
            "cell_type": "code",
            "source": "import pandas as pd\nimport numpy as np\nfrom bs4 import BeautifulSoup\nimport requests\nfrom sklearn.cluster import KMeans\nimport folium\nimport matplotlib.cm as cm\nimport matplotlib.colors as colors\nfrom geopy.geocoders import Nominatim # module to convert an address into latitude and longitude values\n\nprint('done')",
            "execution_count": 111,
            "outputs": [
                {
                    "output_type": "stream",
                    "text": "done\n",
                    "name": "stdout"
                }
            ]
        },
        {
            "metadata": {},
            "cell_type": "markdown",
            "source": "Scrape names of neighboorhoods in Pittsburgh and put into list"
        },
        {
            "metadata": {},
            "cell_type": "code",
            "source": "url = 'https://www.visitpittsburgh.com/neighborhoods/'\n\nsoup = BeautifulSoup(requests.get(url).content, \"html.parser\")\ntable_contents=[]\ntable=soup.find('table')\nfor row in table.findAll('td'):\n    table_contents.append(str(row)[4:-5])\n\nprint(table_contents)",
            "execution_count": 112,
            "outputs": [
                {
                    "output_type": "stream",
                    "text": "['Allegheny Center', 'Allegheny West', 'Allentown', 'Arlington', 'Arlington Heights', 'Banksville', 'Bedford Dwellings', 'Beechview', 'Beltzhoover', 'Bloomfield', 'Bluff', 'Bon Air', 'Brighton Heights', 'Brookline', 'California Kirkbride', 'Carrick', 'Central Lawrenceville', 'Central North Side', 'Central Oakland', 'Chartiers City', 'Chateau', 'Crafton Heights', 'Crawford-Roberts', 'Downtown', 'Duquesne Heights', 'East Allegheny', 'East Carnegie', 'East Hills', 'East Liberty', 'Elliott', 'Esplen', 'Fairywood', 'Fineview', 'Friendship', 'Garfield', 'Glen Hazel', 'Greenfield', 'Hays', 'Hazelwood', 'Highland Park', 'Homewood North', 'Homewood South', 'Homewood West', 'Knoxville', 'Larimer', 'Lincoln-Lemington-Belmar', 'Lincoln Place', 'Lower Lawrenceville', 'Manchester', 'Marshall-Shadeland', 'Middle Hill', 'Morningside', 'Mount Oliver', 'Mount Washington', 'New Homestead', 'North Oakland', 'North Shore', 'Northview Heights', 'Oakwood', 'Overbrook', 'Perry North', 'Perry South', 'Point Breeze', 'Point Breeze North', 'Polish Hill', 'Regent Square', 'Ridgemont', 'Shadyside', 'Sheraden', 'South Oakland', 'South Shore', 'South Side Flats', 'South Side Slopes', 'Spring Garden', 'Spring Hill-City View', 'Squirrel Hill North', 'Squirrel Hill South', 'St. Clair', 'Stanton Heights', 'Strip District', 'Summer Hill', 'Swisshelm Park', 'Terrace Village', 'Troy Hill', 'Upper Hill', 'Upper Lawrenceville', 'West End', 'West Oakland', 'West Wood', 'Windgap']\n",
                    "name": "stdout"
                }
            ]
        },
        {
            "metadata": {},
            "cell_type": "markdown",
            "source": "Use list of neighborhoods to find latitude and longitude"
        },
        {
            "metadata": {},
            "cell_type": "code",
            "source": "address =  (str(table_contents[0]) + ', Pittsburgh, PA')\n\ngeolocator = Nominatim(user_agent=\"foursquare_agent\")\nlocation = geolocator.geocode(address)\nlatitude = location.latitude\nlongitude = location.longitude\n\n\nlats = []\nlongs = []\n\n\nfor area in table_contents[0:88]:\n    address = (str(area) + ', Pittsburgh, PA')\n    geolocator = Nominatim(user_agent=\"foursquare_agent\")\n    location = geolocator.geocode(address)\n    latitude = location.latitude\n    longitude = location.longitude\n    lats.append(latitude)\n    longs.append(longitude)\n",
            "execution_count": 113,
            "outputs": [
                {
                    "output_type": "stream",
                    "text": "40.4529367 -80.0063438\n90\n",
                    "name": "stdout"
                }
            ]
        },
        {
            "metadata": {},
            "cell_type": "markdown",
            "source": "Create Dataframe with nieghborhoods and latitude/longitude"
        },
        {
            "metadata": {},
            "cell_type": "code",
            "source": "# define the dataframe columns\ndata = {'Neighborhood': table_contents[0:88],\n        'Latitude' : lats,\n        'Longitude' : longs} \n\n# instantiate the dataframe\nneighborhoods = pd.DataFrame(data)\nneighborhoods",
            "execution_count": 114,
            "outputs": [
                {
                    "output_type": "execute_result",
                    "execution_count": 114,
                    "data": {
                        "text/plain": "           Neighborhood   Latitude  Longitude\n0      Allegheny Center  40.452937 -80.006344\n1        Allegheny West  40.452273 -80.015741\n2             Allentown  40.422618 -79.993086\n3             Arlington  40.415179 -79.970018\n4     Arlington Heights  40.416659 -79.962402\n..                  ...        ...        ...\n83            Troy Hill  40.468958 -79.978664\n84           Upper Hill  40.453068 -79.959823\n85  Upper Lawrenceville  40.482037 -79.951025\n86             West End  40.440919 -80.034066\n87         West Oakland  40.440663 -79.964643\n\n[88 rows x 3 columns]",
                        "text/html": "<div>\n<style scoped>\n    .dataframe tbody tr th:only-of-type {\n        vertical-align: middle;\n    }\n\n    .dataframe tbody tr th {\n        vertical-align: top;\n    }\n\n    .dataframe thead th {\n        text-align: right;\n    }\n</style>\n<table border=\"1\" class=\"dataframe\">\n  <thead>\n    <tr style=\"text-align: right;\">\n      <th></th>\n      <th>Neighborhood</th>\n      <th>Latitude</th>\n      <th>Longitude</th>\n    </tr>\n  </thead>\n  <tbody>\n    <tr>\n      <th>0</th>\n      <td>Allegheny Center</td>\n      <td>40.452937</td>\n      <td>-80.006344</td>\n    </tr>\n    <tr>\n      <th>1</th>\n      <td>Allegheny West</td>\n      <td>40.452273</td>\n      <td>-80.015741</td>\n    </tr>\n    <tr>\n      <th>2</th>\n      <td>Allentown</td>\n      <td>40.422618</td>\n      <td>-79.993086</td>\n    </tr>\n    <tr>\n      <th>3</th>\n      <td>Arlington</td>\n      <td>40.415179</td>\n      <td>-79.970018</td>\n    </tr>\n    <tr>\n      <th>4</th>\n      <td>Arlington Heights</td>\n      <td>40.416659</td>\n      <td>-79.962402</td>\n    </tr>\n    <tr>\n      <th>...</th>\n      <td>...</td>\n      <td>...</td>\n      <td>...</td>\n    </tr>\n    <tr>\n      <th>83</th>\n      <td>Troy Hill</td>\n      <td>40.468958</td>\n      <td>-79.978664</td>\n    </tr>\n    <tr>\n      <th>84</th>\n      <td>Upper Hill</td>\n      <td>40.453068</td>\n      <td>-79.959823</td>\n    </tr>\n    <tr>\n      <th>85</th>\n      <td>Upper Lawrenceville</td>\n      <td>40.482037</td>\n      <td>-79.951025</td>\n    </tr>\n    <tr>\n      <th>86</th>\n      <td>West End</td>\n      <td>40.440919</td>\n      <td>-80.034066</td>\n    </tr>\n    <tr>\n      <th>87</th>\n      <td>West Oakland</td>\n      <td>40.440663</td>\n      <td>-79.964643</td>\n    </tr>\n  </tbody>\n</table>\n<p>88 rows \u00d7 3 columns</p>\n</div>"
                    },
                    "metadata": {}
                }
            ]
        },
        {
            "metadata": {},
            "cell_type": "code",
            "source": "CLIENT_ID = 'BDHUOEU2XMAHR2WOJZIDN2X1U1LA3P3YI0K0PQM02FQDBPBR' # your Foursquare ID\nCLIENT_SECRET = 'RZIM1GZ1PKT24OCFGG05IEZS203SX4BW51DY2ID4G33PRQ10' # your Foursquare Secret\nVERSION = '20180605' # Foursquare API version\nLIMIT = 100 # A default Foursquare API limit value\n\nprint('Your credentails:')\nprint('CLIENT_ID: ' + CLIENT_ID)\nprint('CLIENT_SECRET:' + CLIENT_SECRET)",
            "execution_count": 115,
            "outputs": [
                {
                    "output_type": "stream",
                    "text": "Your credentails:\nCLIENT_ID: BDHUOEU2XMAHR2WOJZIDN2X1U1LA3P3YI0K0PQM02FQDBPBR\nCLIENT_SECRET:RZIM1GZ1PKT24OCFGG05IEZS203SX4BW51DY2ID4G33PRQ10\n",
                    "name": "stdout"
                }
            ]
        },
        {
            "metadata": {},
            "cell_type": "code",
            "source": "\n\n\ndef getNearbyVenues(names, latitudes, longitudes, radius=500):\n    \n    venues_list=[]\n    for name, lat, lng in zip(names, latitudes, longitudes):\n        print(name)\n            \n        # create the API request URL\n        url = 'https://api.foursquare.com/v2/venues/explore?&client_id={}&client_secret={}&v={}&ll={},{}&radius={}&limit={}'.format(\n            CLIENT_ID, \n            CLIENT_SECRET, \n            VERSION, \n            lat, \n            lng, \n            radius, \n            LIMIT)\n            \n        # make the GET request\n        results = requests.get(url).json()[\"response\"]['groups'][0]['items']\n        \n        # return only relevant information for each nearby venue\n        venues_list.append([(\n            name, \n            lat, \n            lng, \n            v['venue']['name'], \n            v['venue']['location']['lat'], \n            v['venue']['location']['lng'],  \n            v['venue']['categories'][0]['name']) for v in results])\n\n    nearby_venues = pd.DataFrame([item for venue_list in venues_list for item in venue_list])\n    nearby_venues.columns = ['Neighborhood', \n                  'Neighborhood Latitude', \n                  'Neighborhood Longitude', \n                  'Venue', \n                  'Venue Latitude', \n                  'Venue Longitude', \n                  'Venue Category']\n    \n    return(nearby_venues)",
            "execution_count": 116,
            "outputs": []
        },
        {
            "metadata": {},
            "cell_type": "code",
            "source": "df = getNearbyVenues(names=neighborhoods['Neighborhood'],\n                                   latitudes=neighborhoods['Latitude'],\n                                   longitudes=neighborhoods['Longitude']\n                                  )",
            "execution_count": null,
            "outputs": [
                {
                    "output_type": "stream",
                    "text": "Allegheny Center\nAllegheny West\nAllentown\nArlington\nArlington Heights\nBanksville\nBedford Dwellings\nBeechview\nBeltzhoover\nBloomfield\nBluff\nBon Air\nBrighton Heights\nBrookline\nCalifornia Kirkbride\nCarrick\nCentral Lawrenceville\nCentral North Side\nCentral Oakland\nChartiers City\nChateau\nCrafton Heights\nCrawford-Roberts\nDowntown\nDuquesne Heights\nEast Allegheny\nEast Carnegie\nEast Hills\nEast Liberty\nElliott\nEsplen\nFairywood\nFineview\nFriendship\nGarfield\nGlen Hazel\nGreenfield\nHays\nHazelwood\nHighland Park\nHomewood North\nHomewood South\nHomewood West\n",
                    "name": "stdout"
                }
            ]
        },
        {
            "metadata": {},
            "cell_type": "markdown",
            "source": "### Analyze each nieghborhood"
        },
        {
            "metadata": {},
            "cell_type": "code",
            "source": "# one hot encoding\npitt_onehot = pd.get_dummies(df[['Venue Category']], prefix=\"\", prefix_sep=\"\")\n\n# add neighborhood column back to dataframe\npitt_onehot['Neighborhood'] = df['Neighborhood'] \n\n# move neighborhood column to the first column\nfixed_columns = [pitt_onehot.columns[-1]] + list(pitt_onehot.columns[:-1])\npitt_onehot = pitt_onehot[fixed_columns]\n\n\nneigh = df['Neighborhood']\npitt_onehot.drop(labels=['Neighborhood'], axis=1,inplace = True)\npitt_onehot.insert(0, 'Neighborhood', neigh)\n\n\npitt_onehot.head(10)",
            "execution_count": 110,
            "outputs": [
                {
                    "output_type": "execute_result",
                    "execution_count": 110,
                    "data": {
                        "text/plain": "       Neighborhood  Zoo  Accessories Store  Adult Boutique  \\\n0  Allegheny Center    0                  0               0   \n1  Allegheny Center    0                  0               0   \n2  Allegheny Center    0                  0               0   \n3  Allegheny Center    1                  0               0   \n4  Allegheny Center    0                  0               0   \n5  Allegheny Center    0                  0               0   \n6  Allegheny Center    0                  0               0   \n7  Allegheny Center    0                  0               0   \n8  Allegheny Center    0                  0               0   \n9  Allegheny Center    0                  0               0   \n\n   American Restaurant  Antique Shop  Arcade  Art Gallery  Art Museum  \\\n0                    0             0       0            0           0   \n1                    0             0       0            0           0   \n2                    0             0       0            0           0   \n3                    0             0       0            0           0   \n4                    0             0       0            0           0   \n5                    0             0       0            0           0   \n6                    0             0       0            0           0   \n7                    0             0       0            0           0   \n8                    0             0       0            0           0   \n9                    0             0       0            0           0   \n\n   Arts & Crafts Store  ...  Tunnel  Turkish Restaurant  \\\n0                    0  ...       0                   0   \n1                    0  ...       0                   0   \n2                    0  ...       0                   0   \n3                    0  ...       0                   0   \n4                    0  ...       0                   0   \n5                    0  ...       0                   0   \n6                    0  ...       0                   0   \n7                    0  ...       0                   0   \n8                    0  ...       0                   0   \n9                    0  ...       0                   0   \n\n   Vegetarian / Vegan Restaurant  Video Game Store  Video Store  \\\n0                              0                 0            0   \n1                              0                 0            0   \n2                              0                 0            0   \n3                              0                 0            0   \n4                              0                 0            0   \n5                              0                 0            0   \n6                              0                 0            0   \n7                              0                 0            0   \n8                              0                 0            0   \n9                              0                 0            0   \n\n   Vietnamese Restaurant  Wine Bar  Wings Joint  Women's Store  Yoga Studio  \n0                      0         0            0              0            0  \n1                      0         0            0              0            0  \n2                      0         0            0              0            0  \n3                      0         0            0              0            0  \n4                      0         0            0              0            0  \n5                      0         0            0              0            0  \n6                      0         0            0              0            0  \n7                      0         0            0              0            0  \n8                      0         0            0              0            0  \n9                      0         0            0              0            0  \n\n[10 rows x 223 columns]",
                        "text/html": "<div>\n<style scoped>\n    .dataframe tbody tr th:only-of-type {\n        vertical-align: middle;\n    }\n\n    .dataframe tbody tr th {\n        vertical-align: top;\n    }\n\n    .dataframe thead th {\n        text-align: right;\n    }\n</style>\n<table border=\"1\" class=\"dataframe\">\n  <thead>\n    <tr style=\"text-align: right;\">\n      <th></th>\n      <th>Neighborhood</th>\n      <th>Zoo</th>\n      <th>Accessories Store</th>\n      <th>Adult Boutique</th>\n      <th>American Restaurant</th>\n      <th>Antique Shop</th>\n      <th>Arcade</th>\n      <th>Art Gallery</th>\n      <th>Art Museum</th>\n      <th>Arts &amp; Crafts Store</th>\n      <th>...</th>\n      <th>Tunnel</th>\n      <th>Turkish Restaurant</th>\n      <th>Vegetarian / Vegan Restaurant</th>\n      <th>Video Game Store</th>\n      <th>Video Store</th>\n      <th>Vietnamese Restaurant</th>\n      <th>Wine Bar</th>\n      <th>Wings Joint</th>\n      <th>Women's Store</th>\n      <th>Yoga Studio</th>\n    </tr>\n  </thead>\n  <tbody>\n    <tr>\n      <th>0</th>\n      <td>Allegheny Center</td>\n      <td>0</td>\n      <td>0</td>\n      <td>0</td>\n      <td>0</td>\n      <td>0</td>\n      <td>0</td>\n      <td>0</td>\n      <td>0</td>\n      <td>0</td>\n      <td>...</td>\n      <td>0</td>\n      <td>0</td>\n      <td>0</td>\n      <td>0</td>\n      <td>0</td>\n      <td>0</td>\n      <td>0</td>\n      <td>0</td>\n      <td>0</td>\n      <td>0</td>\n    </tr>\n    <tr>\n      <th>1</th>\n      <td>Allegheny Center</td>\n      <td>0</td>\n      <td>0</td>\n      <td>0</td>\n      <td>0</td>\n      <td>0</td>\n      <td>0</td>\n      <td>0</td>\n      <td>0</td>\n      <td>0</td>\n      <td>...</td>\n      <td>0</td>\n      <td>0</td>\n      <td>0</td>\n      <td>0</td>\n      <td>0</td>\n      <td>0</td>\n      <td>0</td>\n      <td>0</td>\n      <td>0</td>\n      <td>0</td>\n    </tr>\n    <tr>\n      <th>2</th>\n      <td>Allegheny Center</td>\n      <td>0</td>\n      <td>0</td>\n      <td>0</td>\n      <td>0</td>\n      <td>0</td>\n      <td>0</td>\n      <td>0</td>\n      <td>0</td>\n      <td>0</td>\n      <td>...</td>\n      <td>0</td>\n      <td>0</td>\n      <td>0</td>\n      <td>0</td>\n      <td>0</td>\n      <td>0</td>\n      <td>0</td>\n      <td>0</td>\n      <td>0</td>\n      <td>0</td>\n    </tr>\n    <tr>\n      <th>3</th>\n      <td>Allegheny Center</td>\n      <td>1</td>\n      <td>0</td>\n      <td>0</td>\n      <td>0</td>\n      <td>0</td>\n      <td>0</td>\n      <td>0</td>\n      <td>0</td>\n      <td>0</td>\n      <td>...</td>\n      <td>0</td>\n      <td>0</td>\n      <td>0</td>\n      <td>0</td>\n      <td>0</td>\n      <td>0</td>\n      <td>0</td>\n      <td>0</td>\n      <td>0</td>\n      <td>0</td>\n    </tr>\n    <tr>\n      <th>4</th>\n      <td>Allegheny Center</td>\n      <td>0</td>\n      <td>0</td>\n      <td>0</td>\n      <td>0</td>\n      <td>0</td>\n      <td>0</td>\n      <td>0</td>\n      <td>0</td>\n      <td>0</td>\n      <td>...</td>\n      <td>0</td>\n      <td>0</td>\n      <td>0</td>\n      <td>0</td>\n      <td>0</td>\n      <td>0</td>\n      <td>0</td>\n      <td>0</td>\n      <td>0</td>\n      <td>0</td>\n    </tr>\n    <tr>\n      <th>5</th>\n      <td>Allegheny Center</td>\n      <td>0</td>\n      <td>0</td>\n      <td>0</td>\n      <td>0</td>\n      <td>0</td>\n      <td>0</td>\n      <td>0</td>\n      <td>0</td>\n      <td>0</td>\n      <td>...</td>\n      <td>0</td>\n      <td>0</td>\n      <td>0</td>\n      <td>0</td>\n      <td>0</td>\n      <td>0</td>\n      <td>0</td>\n      <td>0</td>\n      <td>0</td>\n      <td>0</td>\n    </tr>\n    <tr>\n      <th>6</th>\n      <td>Allegheny Center</td>\n      <td>0</td>\n      <td>0</td>\n      <td>0</td>\n      <td>0</td>\n      <td>0</td>\n      <td>0</td>\n      <td>0</td>\n      <td>0</td>\n      <td>0</td>\n      <td>...</td>\n      <td>0</td>\n      <td>0</td>\n      <td>0</td>\n      <td>0</td>\n      <td>0</td>\n      <td>0</td>\n      <td>0</td>\n      <td>0</td>\n      <td>0</td>\n      <td>0</td>\n    </tr>\n    <tr>\n      <th>7</th>\n      <td>Allegheny Center</td>\n      <td>0</td>\n      <td>0</td>\n      <td>0</td>\n      <td>0</td>\n      <td>0</td>\n      <td>0</td>\n      <td>0</td>\n      <td>0</td>\n      <td>0</td>\n      <td>...</td>\n      <td>0</td>\n      <td>0</td>\n      <td>0</td>\n      <td>0</td>\n      <td>0</td>\n      <td>0</td>\n      <td>0</td>\n      <td>0</td>\n      <td>0</td>\n      <td>0</td>\n    </tr>\n    <tr>\n      <th>8</th>\n      <td>Allegheny Center</td>\n      <td>0</td>\n      <td>0</td>\n      <td>0</td>\n      <td>0</td>\n      <td>0</td>\n      <td>0</td>\n      <td>0</td>\n      <td>0</td>\n      <td>0</td>\n      <td>...</td>\n      <td>0</td>\n      <td>0</td>\n      <td>0</td>\n      <td>0</td>\n      <td>0</td>\n      <td>0</td>\n      <td>0</td>\n      <td>0</td>\n      <td>0</td>\n      <td>0</td>\n    </tr>\n    <tr>\n      <th>9</th>\n      <td>Allegheny Center</td>\n      <td>0</td>\n      <td>0</td>\n      <td>0</td>\n      <td>0</td>\n      <td>0</td>\n      <td>0</td>\n      <td>0</td>\n      <td>0</td>\n      <td>0</td>\n      <td>...</td>\n      <td>0</td>\n      <td>0</td>\n      <td>0</td>\n      <td>0</td>\n      <td>0</td>\n      <td>0</td>\n      <td>0</td>\n      <td>0</td>\n      <td>0</td>\n      <td>0</td>\n    </tr>\n  </tbody>\n</table>\n<p>10 rows \u00d7 223 columns</p>\n</div>"
                    },
                    "metadata": {}
                }
            ]
        },
        {
            "metadata": {},
            "cell_type": "markdown",
            "source": "### Grouping the neighborhood and find mean occurrence"
        },
        {
            "metadata": {},
            "cell_type": "code",
            "source": "pitt_grouped = pitt_onehot.groupby('Neighborhood').mean().reset_index()\npitt_grouped\n\npitt_grouped.columns",
            "execution_count": 106,
            "outputs": [
                {
                    "output_type": "execute_result",
                    "execution_count": 106,
                    "data": {
                        "text/plain": "Index(['Neighborhood', 'Zoo', 'Accessories Store', 'Adult Boutique',\n       'American Restaurant', 'Antique Shop', 'Arcade', 'Art Gallery',\n       'Art Museum', 'Arts & Crafts Store',\n       ...\n       'Tunnel', 'Turkish Restaurant', 'Vegetarian / Vegan Restaurant',\n       'Video Game Store', 'Video Store', 'Vietnamese Restaurant', 'Wine Bar',\n       'Wings Joint', 'Women's Store', 'Yoga Studio'],\n      dtype='object', length=223)"
                    },
                    "metadata": {}
                }
            ]
        },
        {
            "metadata": {},
            "cell_type": "code",
            "source": "fun_list = ['American Restaurant']\n\n\n\ndef search_tool(df,my_list):\n    hood = df['Neighborhood']\n    df = df[my_list]\n    sum_column = df.sum(axis=1)\n    df['Total'] = sum_column\n    df.insert(0, 'Neighborhood', hood)\n    final_df = df.sort_values(by=['Total'], ascending=False)\n    return final_df.head(5)\n  #  clean_df['Total'] = clean_df.sum(axis=1)\n\nsearch_tool(pitt_grouped, fun_list)\n    \n    ",
            "execution_count": 109,
            "outputs": [
                {
                    "output_type": "stream",
                    "text": "/opt/conda/envs/Python-3.7-main/lib/python3.7/site-packages/ipykernel/__main__.py:9: SettingWithCopyWarning: \nA value is trying to be set on a copy of a slice from a DataFrame.\nTry using .loc[row_indexer,col_indexer] = value instead\n\nSee the caveats in the documentation: https://pandas.pydata.org/pandas-docs/stable/user_guide/indexing.html#returning-a-view-versus-a-copy\n",
                    "name": "stderr"
                },
                {
                    "output_type": "execute_result",
                    "execution_count": 109,
                    "data": {
                        "text/plain": "          Neighborhood  American Restaurant     Total\n4    Arlington Heights             0.500000  0.500000\n75         Summer Hill             0.333333  0.333333\n3            Arlington             0.333333  0.333333\n55           Overbrook             0.142857  0.142857\n16  Central North Side             0.142857  0.142857",
                        "text/html": "<div>\n<style scoped>\n    .dataframe tbody tr th:only-of-type {\n        vertical-align: middle;\n    }\n\n    .dataframe tbody tr th {\n        vertical-align: top;\n    }\n\n    .dataframe thead th {\n        text-align: right;\n    }\n</style>\n<table border=\"1\" class=\"dataframe\">\n  <thead>\n    <tr style=\"text-align: right;\">\n      <th></th>\n      <th>Neighborhood</th>\n      <th>American Restaurant</th>\n      <th>Total</th>\n    </tr>\n  </thead>\n  <tbody>\n    <tr>\n      <th>4</th>\n      <td>Arlington Heights</td>\n      <td>0.500000</td>\n      <td>0.500000</td>\n    </tr>\n    <tr>\n      <th>75</th>\n      <td>Summer Hill</td>\n      <td>0.333333</td>\n      <td>0.333333</td>\n    </tr>\n    <tr>\n      <th>3</th>\n      <td>Arlington</td>\n      <td>0.333333</td>\n      <td>0.333333</td>\n    </tr>\n    <tr>\n      <th>55</th>\n      <td>Overbrook</td>\n      <td>0.142857</td>\n      <td>0.142857</td>\n    </tr>\n    <tr>\n      <th>16</th>\n      <td>Central North Side</td>\n      <td>0.142857</td>\n      <td>0.142857</td>\n    </tr>\n  </tbody>\n</table>\n</div>"
                    },
                    "metadata": {}
                }
            ]
        },
        {
            "metadata": {},
            "cell_type": "code",
            "source": "",
            "execution_count": null,
            "outputs": []
        }
    ],
    "metadata": {
        "kernelspec": {
            "name": "python3",
            "display_name": "Python 3.7",
            "language": "python"
        },
        "language_info": {
            "name": "python",
            "version": "3.7.10",
            "mimetype": "text/x-python",
            "codemirror_mode": {
                "name": "ipython",
                "version": 3
            },
            "pygments_lexer": "ipython3",
            "nbconvert_exporter": "python",
            "file_extension": ".py"
        }
    },
    "nbformat": 4,
    "nbformat_minor": 1
}