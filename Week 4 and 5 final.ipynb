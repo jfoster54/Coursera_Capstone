{
    "cells": [
        {
            "cell_type": "markdown",
            "metadata": {
                "collapsed": true
            },
            "source": "# Introduction/Business Problem"
        },
        {
            "cell_type": "markdown",
            "metadata": {},
            "source": "   Whenever I plan a trip to a new city, I find myself looking up specific interests of mine and trying to map how far away they are from each other. I will spend hours deciding which area in a city I will visit because of how tedious it is planning my commute between desired attractions. My solution to this problem is to create a tool using the location data on Foursquare that will allow customers to input their desired attractions (ex. resturants, movies, sports). This tool will optimize the customers experience while visiting the city by recommending neighborhoods in the desired city with the maximum density of requested attractions. This will save the customer time and gurantee an excepional experience while visiting their city of choice. For this project, I will be exploring the city of Pittsburgh, PA."
        },
        {
            "cell_type": "markdown",
            "metadata": {},
            "source": "# Data"
        },
        {
            "cell_type": "markdown",
            "metadata": {},
            "source": "   To create the tool described in  the Introduction/Business Problem section, I will be using the location data provided by Foursquare. Similar to the New York and Toronto examples, I will be retrieving information on the density of different attractions in a given neighborhood. I will create a tool that will filter columns to be used in calculating which neighborhoods should be recommended. For example, if the user inputs 'resturants' and 'parks' as search criteria, the tool will filter only those columns and add up their densities. The new column with the summation of the densities will be sorted in descending order and the top three neighborhood will be suggested as recommended places to visit. "
        },
        {
            "cell_type": "markdown",
            "metadata": {},
            "source": "# Code"
        },
        {
            "cell_type": "code",
            "execution_count": 3,
            "metadata": {
                "scrolled": true
            },
            "outputs": [
                {
                    "name": "stdout",
                    "output_type": "stream",
                    "text": "done\n"
                }
            ],
            "source": "import pandas as pd\nimport numpy as np\nfrom bs4 import BeautifulSoup\nimport requests\nfrom sklearn.cluster import KMeans\n#import folium\nimport matplotlib.cm as cm\nimport matplotlib.colors as colors\nfrom geopy.geocoders import Nominatim # module to convert an address into latitude and longitude values\n\nprint('done')"
        },
        {
            "cell_type": "markdown",
            "metadata": {},
            "source": "Scrape names of neighboorhoods in Pittsburgh and put into list"
        },
        {
            "cell_type": "code",
            "execution_count": 4,
            "metadata": {},
            "outputs": [
                {
                    "name": "stdout",
                    "output_type": "stream",
                    "text": "['Allegheny Center', 'Allegheny West', 'Allentown', 'Arlington', 'Arlington Heights', 'Banksville', 'Bedford Dwellings', 'Beechview', 'Beltzhoover', 'Bloomfield', 'Bluff', 'Bon Air', 'Brighton Heights', 'Brookline', 'California Kirkbride', 'Carrick', 'Central Lawrenceville', 'Central North Side', 'Central Oakland', 'Chartiers City', 'Chateau', 'Crafton Heights', 'Crawford-Roberts', 'Downtown', 'Duquesne Heights', 'East Allegheny', 'East Carnegie', 'East Hills', 'East Liberty', 'Elliott', 'Esplen', 'Fairywood', 'Fineview', 'Friendship', 'Garfield', 'Glen Hazel', 'Greenfield', 'Hays', 'Hazelwood', 'Highland Park', 'Homewood North', 'Homewood South', 'Homewood West', 'Knoxville', 'Larimer', 'Lincoln-Lemington-Belmar', 'Lincoln Place', 'Lower Lawrenceville', 'Manchester', 'Marshall-Shadeland', 'Middle Hill', 'Morningside', 'Mount Oliver', 'Mount Washington', 'New Homestead', 'North Oakland', 'North Shore', 'Northview Heights', 'Oakwood', 'Overbrook', 'Perry North', 'Perry South', 'Point Breeze', 'Point Breeze North', 'Polish Hill', 'Regent Square', 'Ridgemont', 'Shadyside', 'Sheraden', 'South Oakland', 'South Shore', 'South Side Flats', 'South Side Slopes', 'Spring Garden', 'Spring Hill-City View', 'Squirrel Hill North', 'Squirrel Hill South', 'St. Clair', 'Stanton Heights', 'Strip District', 'Summer Hill', 'Swisshelm Park', 'Terrace Village', 'Troy Hill', 'Upper Hill', 'Upper Lawrenceville', 'West End', 'West Oakland', 'West Wood', 'Windgap']\n"
                }
            ],
            "source": "url = 'https://www.visitpittsburgh.com/neighborhoods/'\n\nsoup = BeautifulSoup(requests.get(url).content, \"html.parser\")\ntable_contents=[]\ntable=soup.find('table')\nfor row in table.findAll('td'):\n    table_contents.append(str(row)[4:-5])\n\nprint(table_contents)"
        },
        {
            "cell_type": "markdown",
            "metadata": {},
            "source": "Use list of neighborhoods to find latitude and longitude"
        },
        {
            "cell_type": "code",
            "execution_count": 5,
            "metadata": {},
            "outputs": [],
            "source": "address =  (str(table_contents[0]) + ', Pittsburgh, PA')\n\ngeolocator = Nominatim(user_agent=\"foursquare_agent\")\nlocation = geolocator.geocode(address)\nlatitude = location.latitude\nlongitude = location.longitude\n\n\nlats = []\nlongs = []\n\n\nfor area in table_contents[0:88]:\n    address = (str(area) + ', Pittsburgh, PA')\n    geolocator = Nominatim(user_agent=\"foursquare_agent\")\n    location = geolocator.geocode(address)\n    latitude = location.latitude\n    longitude = location.longitude\n    lats.append(latitude)\n    longs.append(longitude)\n"
        },
        {
            "cell_type": "markdown",
            "metadata": {},
            "source": "Create Dataframe with nieghborhoods and latitude/longitude"
        },
        {
            "cell_type": "code",
            "execution_count": 6,
            "metadata": {},
            "outputs": [
                {
                    "data": {
                        "text/html": "<div>\n<style scoped>\n    .dataframe tbody tr th:only-of-type {\n        vertical-align: middle;\n    }\n\n    .dataframe tbody tr th {\n        vertical-align: top;\n    }\n\n    .dataframe thead th {\n        text-align: right;\n    }\n</style>\n<table border=\"1\" class=\"dataframe\">\n  <thead>\n    <tr style=\"text-align: right;\">\n      <th></th>\n      <th>Neighborhood</th>\n      <th>Latitude</th>\n      <th>Longitude</th>\n    </tr>\n  </thead>\n  <tbody>\n    <tr>\n      <th>0</th>\n      <td>Allegheny Center</td>\n      <td>40.452937</td>\n      <td>-80.006344</td>\n    </tr>\n    <tr>\n      <th>1</th>\n      <td>Allegheny West</td>\n      <td>40.452273</td>\n      <td>-80.015741</td>\n    </tr>\n    <tr>\n      <th>2</th>\n      <td>Allentown</td>\n      <td>40.422618</td>\n      <td>-79.993086</td>\n    </tr>\n    <tr>\n      <th>3</th>\n      <td>Arlington</td>\n      <td>40.415179</td>\n      <td>-79.970018</td>\n    </tr>\n    <tr>\n      <th>4</th>\n      <td>Arlington Heights</td>\n      <td>40.416659</td>\n      <td>-79.962402</td>\n    </tr>\n    <tr>\n      <th>...</th>\n      <td>...</td>\n      <td>...</td>\n      <td>...</td>\n    </tr>\n    <tr>\n      <th>83</th>\n      <td>Troy Hill</td>\n      <td>40.468958</td>\n      <td>-79.978664</td>\n    </tr>\n    <tr>\n      <th>84</th>\n      <td>Upper Hill</td>\n      <td>40.453068</td>\n      <td>-79.959823</td>\n    </tr>\n    <tr>\n      <th>85</th>\n      <td>Upper Lawrenceville</td>\n      <td>40.482037</td>\n      <td>-79.951025</td>\n    </tr>\n    <tr>\n      <th>86</th>\n      <td>West End</td>\n      <td>40.440919</td>\n      <td>-80.034066</td>\n    </tr>\n    <tr>\n      <th>87</th>\n      <td>West Oakland</td>\n      <td>40.440663</td>\n      <td>-79.964643</td>\n    </tr>\n  </tbody>\n</table>\n<p>88 rows \u00d7 3 columns</p>\n</div>",
                        "text/plain": "           Neighborhood   Latitude  Longitude\n0      Allegheny Center  40.452937 -80.006344\n1        Allegheny West  40.452273 -80.015741\n2             Allentown  40.422618 -79.993086\n3             Arlington  40.415179 -79.970018\n4     Arlington Heights  40.416659 -79.962402\n..                  ...        ...        ...\n83            Troy Hill  40.468958 -79.978664\n84           Upper Hill  40.453068 -79.959823\n85  Upper Lawrenceville  40.482037 -79.951025\n86             West End  40.440919 -80.034066\n87         West Oakland  40.440663 -79.964643\n\n[88 rows x 3 columns]"
                    },
                    "execution_count": 6,
                    "metadata": {},
                    "output_type": "execute_result"
                }
            ],
            "source": "# define the dataframe columns\ndata = {'Neighborhood': table_contents[0:88],\n        'Latitude' : lats,\n        'Longitude' : longs} \n\n# instantiate the dataframe\nneighborhoods = pd.DataFrame(data)\nneighborhoods"
        },
        {
            "cell_type": "code",
            "execution_count": 7,
            "metadata": {},
            "outputs": [
                {
                    "name": "stdout",
                    "output_type": "stream",
                    "text": "Your credentails:\nCLIENT_ID: BDHUOEU2XMAHR2WOJZIDN2X1U1LA3P3YI0K0PQM02FQDBPBR\nCLIENT_SECRET:RZIM1GZ1PKT24OCFGG05IEZS203SX4BW51DY2ID4G33PRQ10\n"
                }
            ],
            "source": "CLIENT_ID = 'BDHUOEU2XMAHR2WOJZIDN2X1U1LA3P3YI0K0PQM02FQDBPBR' # your Foursquare ID\nCLIENT_SECRET = 'RZIM1GZ1PKT24OCFGG05IEZS203SX4BW51DY2ID4G33PRQ10' # your Foursquare Secret\nVERSION = '20180605' # Foursquare API version\nLIMIT = 100 # A default Foursquare API limit value\n\nprint('Your credentails:')\nprint('CLIENT_ID: ' + CLIENT_ID)\nprint('CLIENT_SECRET:' + CLIENT_SECRET)"
        },
        {
            "cell_type": "code",
            "execution_count": 8,
            "metadata": {},
            "outputs": [],
            "source": "\n\n\ndef getNearbyVenues(names, latitudes, longitudes, radius=750):\n    \n    venues_list=[]\n    for name, lat, lng in zip(names, latitudes, longitudes):\n        print(name)\n            \n        # create the API request URL\n        url = 'https://api.foursquare.com/v2/venues/explore?&client_id={}&client_secret={}&v={}&ll={},{}&radius={}&limit={}'.format(\n            CLIENT_ID, \n            CLIENT_SECRET, \n            VERSION, \n            lat, \n            lng, \n            radius, \n            LIMIT)\n            \n        # make the GET request\n        results = requests.get(url).json()[\"response\"]['groups'][0]['items']\n        \n        # return only relevant information for each nearby venue\n        venues_list.append([(\n            name, \n            lat, \n            lng, \n            v['venue']['name'], \n            v['venue']['location']['lat'], \n            v['venue']['location']['lng'],  \n            v['venue']['categories'][0]['name']) for v in results])\n\n    nearby_venues = pd.DataFrame([item for venue_list in venues_list for item in venue_list])\n    nearby_venues.columns = ['Neighborhood', \n                  'Neighborhood Latitude', \n                  'Neighborhood Longitude', \n                  'Venue', \n                  'Venue Latitude', \n                  'Venue Longitude', \n                  'Venue Category']\n    \n    return(nearby_venues)"
        },
        {
            "cell_type": "code",
            "execution_count": 9,
            "metadata": {},
            "outputs": [
                {
                    "name": "stdout",
                    "output_type": "stream",
                    "text": "Allegheny Center\nAllegheny West\nAllentown\nArlington\nArlington Heights\nBanksville\nBedford Dwellings\nBeechview\nBeltzhoover\nBloomfield\nBluff\nBon Air\nBrighton Heights\nBrookline\nCalifornia Kirkbride\nCarrick\nCentral Lawrenceville\nCentral North Side\nCentral Oakland\nChartiers City\nChateau\nCrafton Heights\nCrawford-Roberts\nDowntown\nDuquesne Heights\nEast Allegheny\nEast Carnegie\nEast Hills\nEast Liberty\nElliott\nEsplen\nFairywood\nFineview\nFriendship\nGarfield\nGlen Hazel\nGreenfield\nHays\nHazelwood\nHighland Park\nHomewood North\nHomewood South\nHomewood West\nKnoxville\nLarimer\nLincoln-Lemington-Belmar\nLincoln Place\nLower Lawrenceville\nManchester\nMarshall-Shadeland\nMiddle Hill\nMorningside\nMount Oliver\nMount Washington\nNew Homestead\nNorth Oakland\nNorth Shore\nNorthview Heights\nOakwood\nOverbrook\nPerry North\nPerry South\nPoint Breeze\nPoint Breeze North\nPolish Hill\nRegent Square\nRidgemont\nShadyside\nSheraden\nSouth Oakland\nSouth Shore\nSouth Side Flats\nSouth Side Slopes\nSpring Garden\nSpring Hill-City View\nSquirrel Hill North\nSquirrel Hill South\nSt. Clair\nStanton Heights\nStrip District\nSummer Hill\nSwisshelm Park\nTerrace Village\nTroy Hill\nUpper Hill\nUpper Lawrenceville\nWest End\nWest Oakland\n"
                }
            ],
            "source": "df = getNearbyVenues(names=neighborhoods['Neighborhood'],\n                                   latitudes=neighborhoods['Latitude'],\n                                   longitudes=neighborhoods['Longitude']\n                                  )"
        },
        {
            "cell_type": "markdown",
            "metadata": {},
            "source": "### Analyze each nieghborhood"
        },
        {
            "cell_type": "code",
            "execution_count": 10,
            "metadata": {},
            "outputs": [
                {
                    "data": {
                        "text/html": "<div>\n<style scoped>\n    .dataframe tbody tr th:only-of-type {\n        vertical-align: middle;\n    }\n\n    .dataframe tbody tr th {\n        vertical-align: top;\n    }\n\n    .dataframe thead th {\n        text-align: right;\n    }\n</style>\n<table border=\"1\" class=\"dataframe\">\n  <thead>\n    <tr style=\"text-align: right;\">\n      <th></th>\n      <th>Neighborhood</th>\n      <th>Zoo Exhibit</th>\n      <th>ATM</th>\n      <th>American Restaurant</th>\n      <th>Antique Shop</th>\n      <th>Arcade</th>\n      <th>Argentinian Restaurant</th>\n      <th>Art Gallery</th>\n      <th>Art Museum</th>\n      <th>Arts &amp; Crafts Store</th>\n      <th>...</th>\n      <th>Video Game Store</th>\n      <th>Video Store</th>\n      <th>Vietnamese Restaurant</th>\n      <th>Warehouse</th>\n      <th>Wine Bar</th>\n      <th>Winery</th>\n      <th>Wings Joint</th>\n      <th>Women's Store</th>\n      <th>Yoga Studio</th>\n      <th>Zoo</th>\n    </tr>\n  </thead>\n  <tbody>\n    <tr>\n      <th>0</th>\n      <td>Allegheny Center</td>\n      <td>0</td>\n      <td>0</td>\n      <td>0</td>\n      <td>0</td>\n      <td>0</td>\n      <td>0</td>\n      <td>0</td>\n      <td>0</td>\n      <td>0</td>\n      <td>...</td>\n      <td>0</td>\n      <td>0</td>\n      <td>0</td>\n      <td>0</td>\n      <td>0</td>\n      <td>0</td>\n      <td>0</td>\n      <td>0</td>\n      <td>0</td>\n      <td>0</td>\n    </tr>\n    <tr>\n      <th>1</th>\n      <td>Allegheny Center</td>\n      <td>0</td>\n      <td>0</td>\n      <td>0</td>\n      <td>0</td>\n      <td>0</td>\n      <td>0</td>\n      <td>0</td>\n      <td>0</td>\n      <td>0</td>\n      <td>...</td>\n      <td>0</td>\n      <td>0</td>\n      <td>0</td>\n      <td>0</td>\n      <td>0</td>\n      <td>0</td>\n      <td>0</td>\n      <td>0</td>\n      <td>0</td>\n      <td>0</td>\n    </tr>\n    <tr>\n      <th>2</th>\n      <td>Allegheny Center</td>\n      <td>0</td>\n      <td>0</td>\n      <td>0</td>\n      <td>0</td>\n      <td>0</td>\n      <td>0</td>\n      <td>0</td>\n      <td>0</td>\n      <td>0</td>\n      <td>...</td>\n      <td>0</td>\n      <td>0</td>\n      <td>0</td>\n      <td>0</td>\n      <td>0</td>\n      <td>0</td>\n      <td>0</td>\n      <td>0</td>\n      <td>0</td>\n      <td>0</td>\n    </tr>\n    <tr>\n      <th>3</th>\n      <td>Allegheny Center</td>\n      <td>0</td>\n      <td>0</td>\n      <td>0</td>\n      <td>0</td>\n      <td>0</td>\n      <td>0</td>\n      <td>0</td>\n      <td>0</td>\n      <td>0</td>\n      <td>...</td>\n      <td>0</td>\n      <td>0</td>\n      <td>0</td>\n      <td>0</td>\n      <td>0</td>\n      <td>0</td>\n      <td>0</td>\n      <td>0</td>\n      <td>0</td>\n      <td>1</td>\n    </tr>\n    <tr>\n      <th>4</th>\n      <td>Allegheny Center</td>\n      <td>0</td>\n      <td>0</td>\n      <td>0</td>\n      <td>0</td>\n      <td>0</td>\n      <td>0</td>\n      <td>0</td>\n      <td>0</td>\n      <td>0</td>\n      <td>...</td>\n      <td>0</td>\n      <td>0</td>\n      <td>0</td>\n      <td>0</td>\n      <td>0</td>\n      <td>0</td>\n      <td>0</td>\n      <td>0</td>\n      <td>0</td>\n      <td>0</td>\n    </tr>\n    <tr>\n      <th>5</th>\n      <td>Allegheny Center</td>\n      <td>0</td>\n      <td>0</td>\n      <td>0</td>\n      <td>0</td>\n      <td>0</td>\n      <td>0</td>\n      <td>0</td>\n      <td>0</td>\n      <td>0</td>\n      <td>...</td>\n      <td>0</td>\n      <td>0</td>\n      <td>0</td>\n      <td>0</td>\n      <td>0</td>\n      <td>0</td>\n      <td>0</td>\n      <td>0</td>\n      <td>0</td>\n      <td>0</td>\n    </tr>\n    <tr>\n      <th>6</th>\n      <td>Allegheny Center</td>\n      <td>0</td>\n      <td>0</td>\n      <td>0</td>\n      <td>0</td>\n      <td>0</td>\n      <td>0</td>\n      <td>0</td>\n      <td>0</td>\n      <td>0</td>\n      <td>...</td>\n      <td>0</td>\n      <td>0</td>\n      <td>0</td>\n      <td>0</td>\n      <td>0</td>\n      <td>0</td>\n      <td>0</td>\n      <td>0</td>\n      <td>0</td>\n      <td>0</td>\n    </tr>\n    <tr>\n      <th>7</th>\n      <td>Allegheny Center</td>\n      <td>0</td>\n      <td>0</td>\n      <td>0</td>\n      <td>0</td>\n      <td>0</td>\n      <td>0</td>\n      <td>0</td>\n      <td>0</td>\n      <td>0</td>\n      <td>...</td>\n      <td>0</td>\n      <td>0</td>\n      <td>0</td>\n      <td>0</td>\n      <td>0</td>\n      <td>0</td>\n      <td>0</td>\n      <td>0</td>\n      <td>0</td>\n      <td>0</td>\n    </tr>\n    <tr>\n      <th>8</th>\n      <td>Allegheny Center</td>\n      <td>0</td>\n      <td>0</td>\n      <td>0</td>\n      <td>0</td>\n      <td>0</td>\n      <td>0</td>\n      <td>0</td>\n      <td>0</td>\n      <td>0</td>\n      <td>...</td>\n      <td>0</td>\n      <td>0</td>\n      <td>0</td>\n      <td>0</td>\n      <td>0</td>\n      <td>0</td>\n      <td>0</td>\n      <td>0</td>\n      <td>0</td>\n      <td>0</td>\n    </tr>\n    <tr>\n      <th>9</th>\n      <td>Allegheny Center</td>\n      <td>0</td>\n      <td>0</td>\n      <td>0</td>\n      <td>0</td>\n      <td>0</td>\n      <td>0</td>\n      <td>0</td>\n      <td>0</td>\n      <td>0</td>\n      <td>...</td>\n      <td>0</td>\n      <td>0</td>\n      <td>0</td>\n      <td>0</td>\n      <td>0</td>\n      <td>0</td>\n      <td>0</td>\n      <td>0</td>\n      <td>0</td>\n      <td>0</td>\n    </tr>\n  </tbody>\n</table>\n<p>10 rows \u00d7 276 columns</p>\n</div>",
                        "text/plain": "       Neighborhood  Zoo Exhibit  ATM  American Restaurant  Antique Shop  \\\n0  Allegheny Center            0    0                    0             0   \n1  Allegheny Center            0    0                    0             0   \n2  Allegheny Center            0    0                    0             0   \n3  Allegheny Center            0    0                    0             0   \n4  Allegheny Center            0    0                    0             0   \n5  Allegheny Center            0    0                    0             0   \n6  Allegheny Center            0    0                    0             0   \n7  Allegheny Center            0    0                    0             0   \n8  Allegheny Center            0    0                    0             0   \n9  Allegheny Center            0    0                    0             0   \n\n   Arcade  Argentinian Restaurant  Art Gallery  Art Museum  \\\n0       0                       0            0           0   \n1       0                       0            0           0   \n2       0                       0            0           0   \n3       0                       0            0           0   \n4       0                       0            0           0   \n5       0                       0            0           0   \n6       0                       0            0           0   \n7       0                       0            0           0   \n8       0                       0            0           0   \n9       0                       0            0           0   \n\n   Arts & Crafts Store  ...  Video Game Store  Video Store  \\\n0                    0  ...                 0            0   \n1                    0  ...                 0            0   \n2                    0  ...                 0            0   \n3                    0  ...                 0            0   \n4                    0  ...                 0            0   \n5                    0  ...                 0            0   \n6                    0  ...                 0            0   \n7                    0  ...                 0            0   \n8                    0  ...                 0            0   \n9                    0  ...                 0            0   \n\n   Vietnamese Restaurant  Warehouse  Wine Bar  Winery  Wings Joint  \\\n0                      0          0         0       0            0   \n1                      0          0         0       0            0   \n2                      0          0         0       0            0   \n3                      0          0         0       0            0   \n4                      0          0         0       0            0   \n5                      0          0         0       0            0   \n6                      0          0         0       0            0   \n7                      0          0         0       0            0   \n8                      0          0         0       0            0   \n9                      0          0         0       0            0   \n\n   Women's Store  Yoga Studio  Zoo  \n0              0            0    0  \n1              0            0    0  \n2              0            0    0  \n3              0            0    1  \n4              0            0    0  \n5              0            0    0  \n6              0            0    0  \n7              0            0    0  \n8              0            0    0  \n9              0            0    0  \n\n[10 rows x 276 columns]"
                    },
                    "execution_count": 10,
                    "metadata": {},
                    "output_type": "execute_result"
                }
            ],
            "source": "# one hot encoding\npitt_onehot = pd.get_dummies(df[['Venue Category']], prefix=\"\", prefix_sep=\"\")\n\n# add neighborhood column back to dataframe\npitt_onehot['Neighborhood'] = df['Neighborhood'] \n\n# move neighborhood column to the first column\nfixed_columns = [pitt_onehot.columns[-1]] + list(pitt_onehot.columns[:-1])\npitt_onehot = pitt_onehot[fixed_columns]\n\n\nneigh = df['Neighborhood']\npitt_onehot.drop(labels=['Neighborhood'], axis=1,inplace = True)\npitt_onehot.insert(0, 'Neighborhood', neigh)\n\n\npitt_onehot.head(10)"
        },
        {
            "cell_type": "markdown",
            "metadata": {},
            "source": "### Grouping the neighborhood and find mean occurrence"
        },
        {
            "cell_type": "code",
            "execution_count": 11,
            "metadata": {},
            "outputs": [
                {
                    "name": "stdout",
                    "output_type": "stream",
                    "text": "Neighborhood\nZoo Exhibit\nATM\nAmerican Restaurant\nAntique Shop\nArcade\nArgentinian Restaurant\nArt Gallery\nArt Museum\nArts & Crafts Store\nAsian Restaurant\nAthletics & Sports\nAuto Garage\nAuto Workshop\nBBQ Joint\nBagel Shop\nBakery\nBank\nBar\nBaseball Field\nBaseball Stadium\nBed & Breakfast\nBeer Garden\nBeer Store\nBelgian Restaurant\nBig Box Store\nBike Shop\nBoat or Ferry\nBookstore\nBotanical Garden\nBoutique\nBowling Alley\nBrazilian Restaurant\nBreakfast Spot\nBrewery\nBridge\nBubble Tea Shop\nBuilding\nBurger Joint\nBurrito Place\nBus Line\nBus Station\nBus Stop\nBusiness Service\nButcher\nCaf\u00e9\nCambodian Restaurant\nCamera Store\nCandy Store\nCaribbean Restaurant\nCarpet Store\nCasino\nCheck Cashing Service\nCheese Shop\nChinese Restaurant\nClimbing Gym\nClothing Store\nCocktail Bar\nCoffee Shop\nCollege Academic Building\nCollege Arts Building\nCollege Baseball Diamond\nCollege Basketball Court\nCollege Gym\nComic Shop\nConcert Hall\nConstruction & Landscaping\nConvenience Store\nCosmetics Shop\nCuban Restaurant\nCycle Studio\nDance Studio\nDeli / Bodega\nDessert Shop\nDiner\nDisc Golf\nDiscount Store\nDive Bar\nDoctor's Office\nDog Run\nDonut Shop\nDry Cleaner\nDumpling Restaurant\nEastern European Restaurant\nElectronics Store\nEntertainment Service\nEscape Room\nEthiopian Restaurant\nEvent Space\nExhibit\nFabric Shop\nFarm\nFarmers Market\nFast Food Restaurant\nField\nFish & Chips Shop\nFish Market\nFlea Market\nFlower Shop\nFondue Restaurant\nFood\nFood & Drink Shop\nFood Court\nFood Service\nFood Truck\nFootball Stadium\nFountain\nFrench Restaurant\nFried Chicken Joint\nFrozen Yogurt Shop\nFurniture / Home Store\nGarden\nGarden Center\nGas Station\nGastropub\nGay Bar\nGeneral Entertainment\nGerman Restaurant\nGift Shop\nGolf Course\nGourmet Shop\nGreek Restaurant\nGrocery Store\nGym\nGym / Fitness Center\nHalal Restaurant\nHarbor / Marina\nHawaiian Restaurant\nHealth & Beauty Service\nHealth Food Store\nHigh School\nHistoric Site\nHistory Museum\nHobby Shop\nHockey Arena\nHome Service\nHookah Bar\nHospital\nHot Dog Joint\nHotel\nHotel Bar\nHungarian Restaurant\nIT Services\nIce Cream Shop\nIndian Restaurant\nIndie Movie Theater\nIndie Theater\nInsurance Office\nIntersection\nIrish Pub\nItalian Restaurant\nJapanese Restaurant\nJazz Club\nJewelry Store\nJuice Bar\nKaraoke Bar\nKitchen Supply Store\nKorean Restaurant\nLake\nLatin American Restaurant\nLaundromat\nLight Rail Station\nLighting Store\nLiquor Store\nLounge\nMarket\nMartial Arts School\nMassage Studio\nMattress Store\nMediterranean Restaurant\nMetro Station\nMexican Restaurant\nMiddle Eastern Restaurant\nMiscellaneous Shop\nMobile Phone Shop\nMonument / Landmark\nMovie Theater\nMoving Target\nMuseum\nMusic Store\nMusic Venue\nNew American Restaurant\nNewsstand\nNightclub\nNoodle House\nOptical Shop\nOther Great Outdoors\nOther Nightlife\nOther Repair Shop\nOutdoor Sculpture\nPaintball Field\nPaper / Office Supplies Store\nPark\nParking\nPerforming Arts Venue\nPeruvian Restaurant\nPet Service\nPet Store\nPharmacy\nPizza Place\nPlayground\nPlaza\nPoke Place\nPool\nPortuguese Restaurant\nPrint Shop\nPub\nPublic Art\nRacetrack\nRadio Station\nRamen Restaurant\nRecord Shop\nRental Car Location\nRestaurant\nRiver\nRock Climbing Spot\nRock Club\nRoof Deck\nRussian Restaurant\nSalon / Barbershop\nSandwich Place\nScenic Lookout\nScience Museum\nSculpture Garden\nSeafood Restaurant\nShipping Store\nShop & Service\nShopping Plaza\nSkating Rink\nSki Area\nSki Trail\nSmoke Shop\nSnack Place\nSoccer Field\nSoccer Stadium\nSouth American Restaurant\nSouvenir Shop\nSpa\nSpanish Restaurant\nSpeakeasy\nSporting Goods Shop\nSports Bar\nState / Provincial Park\nSteakhouse\nStorage Facility\nSupermarket\nSupplement Shop\nSushi Restaurant\nSzechuan Restaurant\nTaco Place\nTaiwanese Restaurant\nTattoo Parlor\nTea Room\nTennis Court\nThai Restaurant\nTheater\nTheme Park\nTheme Restaurant\nThrift / Vintage Store\nToy / Game Store\nTrail\nTrain Station\nTravel & Transport\nTunnel\nTurkish Restaurant\nVegetarian / Vegan Restaurant\nVideo Game Store\nVideo Store\nVietnamese Restaurant\nWarehouse\nWine Bar\nWinery\nWings Joint\nWomen's Store\nYoga Studio\nZoo\n"
                }
            ],
            "source": "pitt_grouped = pitt_onehot.groupby('Neighborhood').mean().reset_index()\npitt_grouped\n\nfor i in pitt_grouped.columns:\n    print(i)"
        },
        {
            "cell_type": "code",
            "execution_count": 20,
            "metadata": {},
            "outputs": [
                {
                    "name": "stderr",
                    "output_type": "stream",
                    "text": "/opt/conda/envs/Python-3.7-main/lib/python3.7/site-packages/ipykernel/__main__.py:11: FutureWarning: The pandas.np module is deprecated and will be removed from pandas in a future version. Import numpy directly instead\n"
                },
                {
                    "data": {
                        "text/html": "<div>\n<style scoped>\n    .dataframe tbody tr th:only-of-type {\n        vertical-align: middle;\n    }\n\n    .dataframe tbody tr th {\n        vertical-align: top;\n    }\n\n    .dataframe thead th {\n        text-align: right;\n    }\n</style>\n<table border=\"1\" class=\"dataframe\">\n  <thead>\n    <tr style=\"text-align: right;\">\n      <th></th>\n      <th>Neighborhood</th>\n      <th>Park</th>\n      <th>Restaurant</th>\n      <th>Bar</th>\n      <th>Dive Bar</th>\n      <th>Total</th>\n    </tr>\n  </thead>\n  <tbody>\n    <tr>\n      <th>72</th>\n      <td>South Side Slopes</td>\n      <td>3.33</td>\n      <td>1.67</td>\n      <td>15.00</td>\n      <td>1.67</td>\n      <td>5.42</td>\n    </tr>\n    <tr>\n      <th>71</th>\n      <td>South Side Flats</td>\n      <td>3.03</td>\n      <td>1.52</td>\n      <td>9.09</td>\n      <td>6.06</td>\n      <td>4.92</td>\n    </tr>\n  </tbody>\n</table>\n</div>",
                        "text/plain": "         Neighborhood  Park  Restaurant    Bar  Dive Bar  Total\n72  South Side Slopes  3.33        1.67  15.00      1.67   5.42\n71   South Side Flats  3.03        1.52   9.09      6.06   4.92"
                    },
                    "execution_count": 20,
                    "metadata": {},
                    "output_type": "execute_result"
                }
            ],
            "source": "fun_list = ['Park','Restaurant','Bar', 'Dive Bar']\n\n\n\ndef search_tool(df,my_list,include_all=True):\n    hood = df['Neighborhood']\n    df = round(df[my_list]*100,2)\n    sum_column = round(df.mean(axis=1),2)\n    df['Total'] = sum_column\n    if include_all==True:\n        df = df.replace(0, pd.np.nan).dropna(axis=0, how='any', subset=fun_list).fillna(0).astype(float)\n    df.insert(0, 'Neighborhood', hood)\n    final_df = df.sort_values(by=['Total'], ascending=False)\n    return final_df.head()\n\nsearch_tool(pitt_grouped, fun_list)\n    \n  \n\n    "
        },
        {
            "cell_type": "code",
            "execution_count": 21,
            "metadata": {},
            "outputs": [
                {
                    "data": {
                        "text/html": "<div>\n<style scoped>\n    .dataframe tbody tr th:only-of-type {\n        vertical-align: middle;\n    }\n\n    .dataframe tbody tr th {\n        vertical-align: top;\n    }\n\n    .dataframe thead th {\n        text-align: right;\n    }\n</style>\n<table border=\"1\" class=\"dataframe\">\n  <thead>\n    <tr style=\"text-align: right;\">\n      <th></th>\n      <th>Neighborhood</th>\n      <th>Park</th>\n      <th>Restaurant</th>\n      <th>Bar</th>\n      <th>Dive Bar</th>\n      <th>Total</th>\n    </tr>\n  </thead>\n  <tbody>\n    <tr>\n      <th>54</th>\n      <td>New Homestead</td>\n      <td>100.00</td>\n      <td>0.00</td>\n      <td>0.00</td>\n      <td>0.00</td>\n      <td>25.00</td>\n    </tr>\n    <tr>\n      <th>81</th>\n      <td>Swisshelm Park</td>\n      <td>16.67</td>\n      <td>0.00</td>\n      <td>16.67</td>\n      <td>0.00</td>\n      <td>8.34</td>\n    </tr>\n    <tr>\n      <th>86</th>\n      <td>West End</td>\n      <td>8.33</td>\n      <td>8.33</td>\n      <td>8.33</td>\n      <td>0.00</td>\n      <td>6.25</td>\n    </tr>\n    <tr>\n      <th>7</th>\n      <td>Beechview</td>\n      <td>16.67</td>\n      <td>0.00</td>\n      <td>8.33</td>\n      <td>0.00</td>\n      <td>6.25</td>\n    </tr>\n    <tr>\n      <th>2</th>\n      <td>Allentown</td>\n      <td>7.69</td>\n      <td>0.00</td>\n      <td>7.69</td>\n      <td>7.69</td>\n      <td>5.77</td>\n    </tr>\n  </tbody>\n</table>\n</div>",
                        "text/plain": "      Neighborhood    Park  Restaurant    Bar  Dive Bar  Total\n54   New Homestead  100.00        0.00   0.00      0.00  25.00\n81  Swisshelm Park   16.67        0.00  16.67      0.00   8.34\n86        West End    8.33        8.33   8.33      0.00   6.25\n7        Beechview   16.67        0.00   8.33      0.00   6.25\n2        Allentown    7.69        0.00   7.69      7.69   5.77"
                    },
                    "execution_count": 21,
                    "metadata": {},
                    "output_type": "execute_result"
                }
            ],
            "source": "search_tool(pitt_grouped, fun_list, include_all=False)  "
        },
        {
            "cell_type": "markdown",
            "metadata": {},
            "source": "# Results/Discussion/Conclusion"
        },
        {
            "cell_type": "markdown",
            "metadata": {},
            "source": "The main outcome of this project was a simple tool that was made by leveraging the FourSquare API data to give customers the most optimized result based on their inputs. The tool will find which neighborhoods have the most amount of the customers activity searched and give a recommendation. A key feature of the tool that is shown in the code block above is the \"inclue_all\" feature. This allows the customer to have their searches give recommendations that include all of their inputs or just some of their desired attractions. The first example that has include_all=True has lower total scores for the neighborhoods, however, it includes all attractions that the customer was looking for. The second example where include_all=False has higher total scores but does not include all the attraction that the customer is looking for. This option gives the customer the ability to decide where to visit depending on how important it is that they visit certain attractions. In conclusion, I was able to import data using the FourSquare API and local neighborhood data on Pittsburgh to give cust"
        },
        {
            "cell_type": "code",
            "execution_count": null,
            "metadata": {},
            "outputs": [],
            "source": ""
        }
    ],
    "metadata": {
        "kernelspec": {
            "display_name": "Python 3.7",
            "language": "python",
            "name": "python3"
        },
        "language_info": {
            "codemirror_mode": {
                "name": "ipython",
                "version": 3
            },
            "file_extension": ".py",
            "mimetype": "text/x-python",
            "name": "python",
            "nbconvert_exporter": "python",
            "pygments_lexer": "ipython3",
            "version": "3.7.10"
        }
    },
    "nbformat": 4,
    "nbformat_minor": 1
}